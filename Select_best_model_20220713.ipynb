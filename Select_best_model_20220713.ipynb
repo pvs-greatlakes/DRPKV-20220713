{
 "cells": [
  {
   "cell_type": "markdown",
   "id": "f85dee62",
   "metadata": {},
   "source": [
    "### Compare performance of PRedictive Models"
   ]
  },
  {
   "cell_type": "code",
   "execution_count": 1,
   "id": "1fb0b266",
   "metadata": {},
   "outputs": [],
   "source": [
    "import time\n",
    "from datetime import timedelta\n",
    "\n",
    "start_time = time.time()"
   ]
  },
  {
   "cell_type": "code",
   "execution_count": 2,
   "id": "ce2e5b1d",
   "metadata": {},
   "outputs": [
    {
     "name": "stdout",
     "output_type": "stream",
     "text": [
      "\n",
      "Current working directory D:\\DrPKV\\20220713\n"
     ]
    }
   ],
   "source": [
    "import pandas            as  pd\n",
    "import numpy             as  np\n",
    "import seaborn           as  sns\n",
    "import matplotlib.pyplot as  plt\n",
    "import statsmodels.api   as  sm\n",
    "import sys, os\n",
    "\n",
    "print(\"\\nCurrent working directory %s\" %os.getcwd())\n",
    "\n",
    "os.chdir(r'D:\\DrPKV\\20220713')"
   ]
  },
  {
   "cell_type": "code",
   "execution_count": 3,
   "id": "f16a9180",
   "metadata": {},
   "outputs": [],
   "source": [
    "\"\"\"\n",
    "  Function Name: compare_models\n",
    "\n",
    "  Description: This **function** compares various algorithms on \n",
    "                 1) AUROC 2) Precision, 3) Recall\n",
    "   \n",
    "  Input:  1) splits for k fold \n",
    "          2) random seed number\n",
    "          3) Training data for predictor variables\n",
    "          4) Training data for target variable\n",
    "\n",
    "   Output: Model comparison on these metrics 1) AUROC 2) Metrics - Precision, Recall\n",
    "   \n",
    "\"\"\"\n",
    "\n",
    "def compare_models(n_splits, random_state, X, Y):  \n",
    "\n",
    "    ### To compare algorithms\n",
    "    \n",
    "    import  matplotlib.pyplot              as       plt\n",
    "    from    sklearn.model_selection        import   KFold\n",
    "    from    sklearn.model_selection        import   RepeatedStratifiedKFold\n",
    "    from    sklearn.model_selection        import   cross_val_score\n",
    "    from    sklearn.linear_model           import   LogisticRegression\n",
    "    from    sklearn.tree                   import   DecisionTreeClassifier\n",
    "    from    sklearn.neighbors              import   KNeighborsClassifier\n",
    "    from    sklearn.naive_bayes            import   GaussianNB\n",
    "    from    sklearn.ensemble               import   RandomForestClassifier\n",
    "    from    xgboost                        import   XGBClassifier\n",
    "    from    sklearn.discriminant_analysis  import   LinearDiscriminantAnalysis as LDA\n",
    "    from    sklearn.svm                    import   SVC\n",
    "\n",
    "    ### Prepare models\n",
    "    \n",
    "    models  = []\n",
    "\n",
    "    models.append(('CART', DecisionTreeClassifier()))\n",
    "    models.append(('RF',   RandomForestClassifier()))\n",
    "    models.append(('XGB',  XGBClassifier()))\n",
    "    models.append(('LR',   LogisticRegression()))\n",
    "    models.append(('KNN',  KNeighborsClassifier()))\n",
    "    models.append(('LDA',  LDA()))\n",
    "    models.append(('SVM',  SVC(gamma = 'auto', kernel = 'rbf')))\n",
    "    models.append(('NB',   GaussianNB()))\n",
    "\n",
    "   \n",
    "    ### Evaluate model in turn\n",
    "    \n",
    "    scores_req             =     ['roc_auc', 'precision', 'recall']\n",
    "    \n",
    "    for i in range(len(scores_req)):\n",
    "\n",
    "        results                =     []\n",
    "        names                  =     []\n",
    "        \n",
    "        scoring                =     scores_req[i]\n",
    "        \n",
    "        print(scoring)\n",
    "        \n",
    "        for name, model in models:\n",
    "                print(\"\\n n_splits %d random_state %d\" % (n_splits, random_state))        \t\n",
    "                #kfold           =   KFold(n_splits = 10, random_state = 12345)\n",
    "                rskf            =   RepeatedStratifiedKFold(n_splits=2, n_repeats=2, random_state=36851234)\n",
    "                cv_results      =   cross_val_score(model, X, Y, cv = rskf, scoring = scoring)\n",
    "                results.append(cv_results)\n",
    "                names.append(name)\n",
    "                msg = \"%s: %f (%f)\" % (name, cv_results.mean(), cv_results.std())\n",
    "                print(msg)\n",
    "        \n",
    "        ### Box plot algorithm comparison\n",
    "        \n",
    "        sub_title = 'Algorithm Comparison using ' + scoring\n",
    "        \n",
    "        fig = plt.figure()\n",
    "        fig.suptitle(sub_title)\n",
    "        ax  = fig.add_subplot(111)\n",
    "        plt.boxplot(results)\n",
    "        ax.set_xticklabels(names)\n",
    "        plt.show()\n",
    "\n",
    "### ------------------------------------------------------------------------------------------"
   ]
  },
  {
   "cell_type": "code",
   "execution_count": 4,
   "id": "e5988463",
   "metadata": {},
   "outputs": [],
   "source": [
    "file_name  =  r'.\\Output\\imputed_compact_dataset_ten_20220713084509AM.csv'\n",
    "dff        =  pd.read_csv(file_name)"
   ]
  },
  {
   "cell_type": "code",
   "execution_count": 5,
   "id": "e5f0d9f8",
   "metadata": {},
   "outputs": [
    {
     "data": {
      "text/plain": [
       "Index(['Target', 'Cash_ratio', 'Changeinsales_Industry', 'debt_equity',\n",
       "       'debt_income', 'Interest_coverage', 'Quick_ratio', 'ROE(new)',\n",
       "       'ROS(new)', 'Sales_CE', 'Total shareholders' funds', 'Slno',\n",
       "       'Shareholderquity_code'],\n",
       "      dtype='object')"
      ]
     },
     "execution_count": 5,
     "metadata": {},
     "output_type": "execute_result"
    }
   ],
   "source": [
    "dff.columns"
   ]
  },
  {
   "cell_type": "code",
   "execution_count": 6,
   "id": "f54b6607",
   "metadata": {},
   "outputs": [],
   "source": [
    "reqd_cols   =   ['Target', 'Cash_ratio', 'Changeinsales_Industry', 'debt_equity', 'debt_income', 'Interest_coverage',\\\n",
    "                 'Quick_ratio', 'ROE(new)', 'ROS(new)', 'Sales_CE', \"Total shareholders' funds\", 'Slno','Shareholderquity_code']\n",
    "df1         =   dff[reqd_cols]"
   ]
  },
  {
   "cell_type": "code",
   "execution_count": 7,
   "id": "a4d22e6d",
   "metadata": {},
   "outputs": [
    {
     "data": {
      "text/plain": [
       "Index(['Target', 'Cash_ratio', 'Changeinsales_Industry', 'debt_equity',\n",
       "       'debt_income', 'Interest_coverage', 'Quick_ratio', 'ROE(new)',\n",
       "       'ROS(new)', 'Sales_CE', 'Total shareholders' funds', 'Slno',\n",
       "       'Shareholderquity_code'],\n",
       "      dtype='object')"
      ]
     },
     "execution_count": 7,
     "metadata": {},
     "output_type": "execute_result"
    }
   ],
   "source": [
    "df1.columns"
   ]
  },
  {
   "cell_type": "code",
   "execution_count": 8,
   "id": "b17f4ce1",
   "metadata": {},
   "outputs": [
    {
     "name": "stdout",
     "output_type": "stream",
     "text": [
      "X dimension (9000, 10)\n",
      "y dimension (9000,)\n"
     ]
    }
   ],
   "source": [
    "# define dataset\n",
    "Y             =    df1['Target']\n",
    "X             =    df1.drop(['Target', 'Slno','Shareholderquity_code'], axis = 1)                       \n",
    "print('X dimension {}'. format(X.shape))\n",
    "print('y dimension {}'. format(Y.shape))"
   ]
  },
  {
   "cell_type": "code",
   "execution_count": 9,
   "id": "6dc24abe",
   "metadata": {},
   "outputs": [
    {
     "name": "stdout",
     "output_type": "stream",
     "text": [
      "roc_auc\n",
      "\n",
      " n_splits 10 random_state 12345\n",
      "CART: 0.737218 (0.005260)\n",
      "\n",
      " n_splits 10 random_state 12345\n",
      "RF: 0.919661 (0.006400)\n",
      "\n",
      " n_splits 10 random_state 12345\n",
      "XGB: 0.930577 (0.005118)\n",
      "\n",
      " n_splits 10 random_state 12345\n",
      "LR: 0.667682 (0.014767)\n",
      "\n",
      " n_splits 10 random_state 12345\n",
      "KNN: 0.655559 (0.002649)\n",
      "\n",
      " n_splits 10 random_state 12345\n",
      "LDA: 0.682646 (0.006317)\n",
      "\n",
      " n_splits 10 random_state 12345\n",
      "SVM: 0.581054 (0.002108)\n",
      "\n",
      " n_splits 10 random_state 12345\n",
      "NB: 0.552761 (0.023633)\n"
     ]
    },
    {
     "data": {
      "image/png": "[encoded data removed]",
      "text/plain": [
       "<Figure size 432x288 with 1 Axes>"
      ]
     },
     "metadata": {
      "needs_background": "light"
     },
     "output_type": "display_data"
    },
    {
     "name": "stdout",
     "output_type": "stream",
     "text": [
      "precision\n",
      "\n",
      " n_splits 10 random_state 12345\n",
      "CART: 0.531923 (0.016886)\n",
      "\n",
      " n_splits 10 random_state 12345\n",
      "RF: 0.889759 (0.016111)\n",
      "\n",
      " n_splits 10 random_state 12345\n",
      "XGB: 0.822970 (0.010718)\n",
      "\n",
      " n_splits 10 random_state 12345\n",
      "LR: 0.296134 (0.028905)\n",
      "\n",
      " n_splits 10 random_state 12345\n",
      "KNN: 0.590805 (0.023060)\n",
      "\n",
      " n_splits 10 random_state 12345\n",
      "LDA: 0.622711 (0.070792)\n",
      "\n",
      " n_splits 10 random_state 12345\n",
      "SVM: 0.959302 (0.025342)\n",
      "\n",
      " n_splits 10 random_state 12345\n",
      "NB: 0.078544 (0.078557)\n"
     ]
    },
    {
     "name": "stderr",
     "output_type": "stream",
     "text": [
      "C:\\Users\\User\\anaconda3\\lib\\site-packages\\sklearn\\metrics\\_classification.py:1318: UndefinedMetricWarning: Precision is ill-defined and being set to 0.0 due to no predicted samples. Use `zero_division` parameter to control this behavior.\n",
      "  _warn_prf(average, modifier, msg_start, len(result))\n",
      "C:\\Users\\User\\anaconda3\\lib\\site-packages\\sklearn\\metrics\\_classification.py:1318: UndefinedMetricWarning: Precision is ill-defined and being set to 0.0 due to no predicted samples. Use `zero_division` parameter to control this behavior.\n",
      "  _warn_prf(average, modifier, msg_start, len(result))\n"
     ]
    },
    {
     "data": {
      "image/png": "[encoded data removed]",
      "text/plain": [
       "<Figure size 432x288 with 1 Axes>"
      ]
     },
     "metadata": {
      "needs_background": "light"
     },
     "output_type": "display_data"
    },
    {
     "name": "stdout",
     "output_type": "stream",
     "text": [
      "recall\n",
      "\n",
      " n_splits 10 random_state 12345\n",
      "CART: 0.555471 (0.007123)\n",
      "\n",
      " n_splits 10 random_state 12345\n",
      "RF: 0.474725 (0.012864)\n",
      "\n",
      " n_splits 10 random_state 12345\n",
      "XGB: 0.557742 (0.020799)\n",
      "\n",
      " n_splits 10 random_state 12345\n",
      "LR: 0.191692 (0.016004)\n",
      "\n",
      " n_splits 10 random_state 12345\n",
      "KNN: 0.229814 (0.004193)\n",
      "\n",
      " n_splits 10 random_state 12345\n",
      "LDA: 0.010564 (0.004647)\n",
      "\n",
      " n_splits 10 random_state 12345\n",
      "SVM: 0.061510 (0.000681)\n",
      "\n",
      " n_splits 10 random_state 12345\n",
      "NB: 0.447927 (0.447947)\n"
     ]
    },
    {
     "data": {
      "image/png": "[encoded data removed]",
      "text/plain": [
       "<Figure size 432x288 with 1 Axes>"
      ]
     },
     "metadata": {
      "needs_background": "light"
     },
     "output_type": "display_data"
    }
   ],
   "source": [
    "n_splits     =    10\n",
    "random_state =    12345\n",
    "\n",
    "compare_models(n_splits, random_state, X, Y)"
   ]
  },
  {
   "cell_type": "code",
   "execution_count": 10,
   "id": "08530699",
   "metadata": {},
   "outputs": [
    {
     "name": "stdout",
     "output_type": "stream",
     "text": [
      "All models - Execution took: 0:01:10 secs (Wall clock time)\n"
     ]
    }
   ],
   "source": [
    "elapsed_time_secs = time.time() - start_time\n",
    "\n",
    "elapsed_time_msg = \"All models - Execution took: %s secs (Wall clock time)\" % timedelta(seconds=round(elapsed_time_secs))\n",
    "\n",
    "print(elapsed_time_msg)   "
   ]
  },
  {
   "cell_type": "markdown",
   "id": "f524f8b5",
   "metadata": {},
   "source": [
    "### END"
   ]
  }
 ],
 "metadata": {
  "kernelspec": {
   "display_name": "Python 3 (ipykernel)",
   "language": "python",
   "name": "python3"
  },
  "language_info": {
   "codemirror_mode": {
    "name": "ipython",
    "version": 3
   },
   "file_extension": ".py",
   "mimetype": "text/x-python",
   "name": "python",
   "nbconvert_exporter": "python",
   "pygments_lexer": "ipython3",
   "version": "3.9.12"
  }
 },
 "nbformat": 4,
 "nbformat_minor": 5
}
